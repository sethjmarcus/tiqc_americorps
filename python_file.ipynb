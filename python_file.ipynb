{
 "cells": [
  {
   "cell_type": "code",
   "execution_count": 28,
   "metadata": {},
   "outputs": [],
   "source": [
    "from sodapy import Socrata\n",
    "import pandas as pd\n",
    "import numpy as np"
   ]
  },
  {
   "cell_type": "code",
   "execution_count": 29,
   "metadata": {},
   "outputs": [
    {
     "name": "stderr",
     "output_type": "stream",
     "text": [
      "WARNING:root:Requests made without an app_token will be subject to strict throttling limits.\n"
     ]
    }
   ],
   "source": [
    "client = Socrata(\"data.americorps.gov\", None)"
   ]
  },
  {
   "cell_type": "code",
   "execution_count": 68,
   "metadata": {},
   "outputs": [],
   "source": [
    "# First 2000 results, returned as JSON from API / converted to Python list of\n",
    "# dictionaries by sodapy.\n",
    "results1 = client.get(\"v35n-m8im\", limit = 50000)\n",
    "results2 = client.get(\"v35n-m8im\", limit = 30000, offset=50000)\n",
    "\n",
    "# Convert to pandas DataFrame\n",
    "results = pd.concat([pd.DataFrame.from_records(results1), pd.DataFrame.from_records(results2)])\n"
   ]
  },
  {
   "cell_type": "code",
   "execution_count": 69,
   "metadata": {},
   "outputs": [
    {
     "data": {
      "text/plain": [
       "(77984, 27)"
      ]
     },
     "execution_count": 69,
     "metadata": {},
     "output_type": "execute_result"
    }
   ],
   "source": [
    "results.shape"
   ]
  },
  {
   "cell_type": "code",
   "execution_count": 70,
   "metadata": {},
   "outputs": [
    {
     "data": {
      "text/plain": [
       "Index(['cncs_funding_type', 'cncs_program_type', 'cncs_program_code',\n",
       "       'location_type', 'grant_id', 'grantee_sponsor_organization',\n",
       "       'organization_id', 'program_project', 'program_id', 'program_city',\n",
       "       'program_county', 'program_state_territory', 'program_zip',\n",
       "       'program_zip_4', 'program_congressional_district', 'program_beale_code',\n",
       "       'service_city', 'service_county', 'service_state_territory',\n",
       "       'service_zip', 'service_zip_4', 'service_congressional_district',\n",
       "       'service_beale_code', 'location_lat_long', 'service_campus',\n",
       "       'program_aiannhce', 'service_aiannhce'],\n",
       "      dtype='object')"
      ]
     },
     "execution_count": 70,
     "metadata": {},
     "output_type": "execute_result"
    }
   ],
   "source": [
    "results.columns"
   ]
  },
  {
   "cell_type": "code",
   "execution_count": 27,
   "metadata": {},
   "outputs": [
    {
     "data": {
      "text/plain": [
       "(490, 2)"
      ]
     },
     "execution_count": 27,
     "metadata": {},
     "output_type": "execute_result"
    }
   ],
   "source": [
    "results[results.program_state_territory == 'NY'][['grant_id', 'program_id']].shape\n",
    "results[results.program_state_territory == 'NY'][['grant_id', 'program_id']].drop_duplicates().shape\n"
   ]
  },
  {
   "cell_type": "code",
   "execution_count": 86,
   "metadata": {},
   "outputs": [],
   "source": [
    "my_set = results[results['service_zip'].isin(values)]"
   ]
  },
  {
   "cell_type": "code",
   "execution_count": 88,
   "metadata": {},
   "outputs": [
    {
     "data": {
      "text/plain": [
       "(1942, 27)"
      ]
     },
     "execution_count": 88,
     "metadata": {},
     "output_type": "execute_result"
    }
   ],
   "source": [
    "my_set.shape"
   ]
  },
  {
   "cell_type": "code",
   "execution_count": 78,
   "metadata": {},
   "outputs": [],
   "source": [
    "# Manhattan: 10001-10282\n",
    "# Staten Island: 10301-10314\n",
    "# Bronx: 10451-10475\n",
    "# Queens: 11004-11109, 11351-11697\n",
    "# Brooklyn: 11201-11256\n",
    "values = []\n",
    "for i in range(10001, 10282+1):\n",
    "    values.append(str(i))\n",
    "for i in range(10301, 10314+1):\n",
    "    values.append(str(i))\n",
    "for i in range(10451, 10475+1):\n",
    "    values.append(str(i))\n",
    "for i in range(11004, 11109+1):\n",
    "    values.append(str(i))\n",
    "for i in range(11351, 11697+1):\n",
    "    values.append(str(i))\n",
    "for i in range(11201, 11256+1):\n",
    "    values.append(str(i))"
   ]
  },
  {
   "cell_type": "code",
   "execution_count": 46,
   "metadata": {},
   "outputs": [
    {
     "data": {
      "text/plain": [
       "{'Ada',\n",
       " 'Adams',\n",
       " 'Albany',\n",
       " 'Allegany',\n",
       " 'Allegheny',\n",
       " 'Anchorage',\n",
       " 'Ascension',\n",
       " 'Baltimore City',\n",
       " 'Bergen',\n",
       " 'Bernalillo',\n",
       " 'Bexar',\n",
       " 'Bolivar',\n",
       " 'Boulder',\n",
       " 'Bradley',\n",
       " 'Bronx',\n",
       " 'Broome',\n",
       " 'Broward',\n",
       " 'Carbon',\n",
       " 'Cattaraugus',\n",
       " 'Cayuga',\n",
       " 'Charleston',\n",
       " 'Chautauqua',\n",
       " 'Chemung',\n",
       " 'Chenango',\n",
       " 'Chittenden',\n",
       " 'Clark',\n",
       " 'Clinton',\n",
       " 'Columbia',\n",
       " 'Contra Costa',\n",
       " 'Cook',\n",
       " 'Cortland',\n",
       " 'Cumberland',\n",
       " 'Cuyahoga',\n",
       " 'Dallas',\n",
       " 'Davidson',\n",
       " 'DeKalb',\n",
       " 'Delaware',\n",
       " 'Denver',\n",
       " 'District of Columbia',\n",
       " 'Dona Ana',\n",
       " 'Dougherty',\n",
       " 'Dutchess',\n",
       " 'East Baton Rouge',\n",
       " 'Eau Claire',\n",
       " 'El Paso',\n",
       " 'Erie',\n",
       " 'Essex',\n",
       " 'Fayette',\n",
       " 'Franklin',\n",
       " 'Fresno',\n",
       " 'Fulton',\n",
       " 'Genesee',\n",
       " 'Greene',\n",
       " 'Guilford',\n",
       " 'Hamilton',\n",
       " 'Hancock',\n",
       " 'Harris',\n",
       " 'Hartford',\n",
       " 'Hennepin',\n",
       " 'Herkimer',\n",
       " 'Hidalgo',\n",
       " 'Hinds',\n",
       " 'Ingham',\n",
       " 'Iron',\n",
       " 'Jackson',\n",
       " 'Jefferson',\n",
       " 'Kanawha',\n",
       " 'Kane',\n",
       " 'Kent',\n",
       " 'King',\n",
       " 'Kings',\n",
       " 'Lewis',\n",
       " 'Livingston',\n",
       " 'Los Angeles',\n",
       " 'Lowndes',\n",
       " 'Madison',\n",
       " 'Maricopa',\n",
       " 'McLennan',\n",
       " 'Miami-Dade',\n",
       " 'Middlesex',\n",
       " 'Milwaukee',\n",
       " 'Minnehaha',\n",
       " 'Monroe',\n",
       " 'Montgomery',\n",
       " 'Montrose',\n",
       " 'Mora',\n",
       " 'Multnomah',\n",
       " 'Nash',\n",
       " 'Nassau',\n",
       " 'New York',\n",
       " 'Niagara',\n",
       " 'Norfolk City',\n",
       " 'Nye',\n",
       " 'Oneida',\n",
       " 'Onondaga',\n",
       " 'Ontario',\n",
       " 'Orange',\n",
       " 'Orleans',\n",
       " 'Oswego',\n",
       " 'Oxford',\n",
       " 'Philadelphia',\n",
       " 'Phillips',\n",
       " 'Pima',\n",
       " 'Piscataquis',\n",
       " 'Polk',\n",
       " 'Potter',\n",
       " 'Providence',\n",
       " 'Pulaski',\n",
       " 'Putnam',\n",
       " 'Queens',\n",
       " 'Ramsey',\n",
       " 'Rensselaer',\n",
       " 'Richmond',\n",
       " 'Richmond City',\n",
       " 'Rockland',\n",
       " 'Saint Lawrence',\n",
       " 'Saint Louis City',\n",
       " 'Salem',\n",
       " 'Salt Lake',\n",
       " 'San Diego',\n",
       " 'San Francisco',\n",
       " 'Saratoga',\n",
       " 'Schenectady',\n",
       " 'Schoharie',\n",
       " 'Schuyler',\n",
       " 'Seneca',\n",
       " 'Shelby',\n",
       " 'Smith',\n",
       " 'Somerset',\n",
       " 'Steuben',\n",
       " 'Suffolk',\n",
       " 'Sullivan',\n",
       " 'Tarrant',\n",
       " 'Tioga',\n",
       " 'Tom Green',\n",
       " 'Tompkins',\n",
       " 'Travis',\n",
       " 'Tulsa',\n",
       " 'Ulster',\n",
       " 'Wake',\n",
       " 'Ward',\n",
       " 'Warren',\n",
       " 'Washington',\n",
       " 'Wayne',\n",
       " 'Westchester',\n",
       " 'Worcester',\n",
       " 'Wyoming',\n",
       " 'Yancey',\n",
       " 'Yates',\n",
       " nan}"
      ]
     },
     "execution_count": 46,
     "metadata": {},
     "output_type": "execute_result"
    }
   ],
   "source": [
    "my_set"
   ]
  }
 ],
 "metadata": {
  "kernelspec": {
   "display_name": "seth_tiqc",
   "language": "python",
   "name": "python3"
  },
  "language_info": {
   "codemirror_mode": {
    "name": "ipython",
    "version": 3
   },
   "file_extension": ".py",
   "mimetype": "text/x-python",
   "name": "python",
   "nbconvert_exporter": "python",
   "pygments_lexer": "ipython3",
   "version": "3.10.8"
  },
  "orig_nbformat": 4,
  "vscode": {
   "interpreter": {
    "hash": "b3f318dffbb9755439805ca18ba865a4b37f3c7f0ea0e08346dd341125da2a66"
   }
  }
 },
 "nbformat": 4,
 "nbformat_minor": 2
}
